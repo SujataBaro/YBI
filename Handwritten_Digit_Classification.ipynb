{
  "cells": [
    {
      "cell_type": "markdown",
      "metadata": {
        "id": "view-in-github",
        "colab_type": "text"
      },
      "source": [
        "<a href=\"https://colab.research.google.com/github/SujataBaro/YBI/blob/main/Handwritten_Digit_Classification.ipynb\" target=\"_parent\"><img src=\"https://colab.research.google.com/assets/colab-badge.svg\" alt=\"Open In Colab\"/></a>"
      ]
    },
    {
      "cell_type": "markdown",
      "id": "7eba4d6e",
      "metadata": {
        "id": "7eba4d6e"
      },
      "source": [
        "Handwritten Digit Classification"
      ]
    },
    {
      "cell_type": "markdown",
      "id": "eb22a9a6",
      "metadata": {
        "id": "eb22a9a6"
      },
      "source": [
        "Import libraries"
      ]
    },
    {
      "cell_type": "code",
      "execution_count": null,
      "id": "45018f44",
      "metadata": {
        "id": "45018f44"
      },
      "outputs": [],
      "source": [
        "import numpy as np\n",
        "import pandas as pd\n",
        "import matplotlib.pyplot as plt"
      ]
    },
    {
      "cell_type": "markdown",
      "id": "6b207d71",
      "metadata": {
        "id": "6b207d71"
      },
      "source": [
        "Import Data"
      ]
    },
    {
      "cell_type": "code",
      "execution_count": null,
      "id": "81ced705",
      "metadata": {
        "id": "81ced705"
      },
      "outputs": [],
      "source": [
        "from sklearn.datasets import load_digits"
      ]
    },
    {
      "cell_type": "code",
      "execution_count": null,
      "id": "84e546f7",
      "metadata": {
        "id": "84e546f7"
      },
      "outputs": [],
      "source": [
        "df = load_digits()"
      ]
    },
    {
      "cell_type": "code",
      "execution_count": null,
      "id": "a224c427",
      "metadata": {
        "id": "a224c427",
        "outputId": "120a4100-c473-4c6e-93ec-4d4a92b7101d"
      },
      "outputs": [
        {
          "data": {
            "image/png": "[encoded data removed]",
            "text/plain": [
              "<Figure size 1000x300 with 4 Axes>"
            ]
          },
          "metadata": {},
          "output_type": "display_data"
        }
      ],
      "source": [
        "_, axes = plt.subplots(nrows=1, ncols=4, figsize=(10, 3))\n",
        "for ax, image, label in zip(axes, df.images, df.target):\n",
        "    ax.set_axis_off()\n",
        "    ax.imshow(image, cmap=plt.cm.gray_r, interpolation=\"nearest\")\n",
        "    ax.set_title(\"Training: %i\" % label)"
      ]
    },
    {
      "cell_type": "markdown",
      "id": "452066de",
      "metadata": {
        "id": "452066de"
      },
      "source": [
        "Data Preprocessing"
      ]
    },
    {
      "cell_type": "code",
      "execution_count": null,
      "id": "96232c13",
      "metadata": {
        "id": "96232c13",
        "outputId": "c70e4818-7e8a-4298-d246-5c226d14a731"
      },
      "outputs": [
        {
          "data": {
            "text/plain": [
              "(1797, 8, 8)"
            ]
          },
          "execution_count": 8,
          "metadata": {},
          "output_type": "execute_result"
        }
      ],
      "source": [
        "df.images.shape"
      ]
    },
    {
      "cell_type": "code",
      "execution_count": null,
      "id": "51d04e66",
      "metadata": {
        "id": "51d04e66",
        "outputId": "cdbfd308-b806-4322-8478-3f3bccd7e164"
      },
      "outputs": [
        {
          "data": {
            "text/plain": [
              "array([[ 0.,  0.,  5., 13.,  9.,  1.,  0.,  0.],\n",
              "       [ 0.,  0., 13., 15., 10., 15.,  5.,  0.],\n",
              "       [ 0.,  3., 15.,  2.,  0., 11.,  8.,  0.],\n",
              "       [ 0.,  4., 12.,  0.,  0.,  8.,  8.,  0.],\n",
              "       [ 0.,  5.,  8.,  0.,  0.,  9.,  8.,  0.],\n",
              "       [ 0.,  4., 11.,  0.,  1., 12.,  7.,  0.],\n",
              "       [ 0.,  2., 14.,  5., 10., 12.,  0.,  0.],\n",
              "       [ 0.,  0.,  6., 13., 10.,  0.,  0.,  0.]])"
            ]
          },
          "execution_count": 9,
          "metadata": {},
          "output_type": "execute_result"
        }
      ],
      "source": [
        "df.images[0]"
      ]
    },
    {
      "cell_type": "code",
      "execution_count": null,
      "id": "61baa0d5",
      "metadata": {
        "id": "61baa0d5",
        "outputId": "da900904-2828-4390-d3ba-ca6762b244ec"
      },
      "outputs": [
        {
          "data": {
            "text/plain": [
              "(8, 8)"
            ]
          },
          "execution_count": 10,
          "metadata": {},
          "output_type": "execute_result"
        }
      ],
      "source": [
        "df.images[0].shape"
      ]
    },
    {
      "cell_type": "code",
      "execution_count": null,
      "id": "21935161",
      "metadata": {
        "id": "21935161",
        "outputId": "4f34c70a-ddf6-4443-b081-faf2e882cb45"
      },
      "outputs": [
        {
          "data": {
            "text/plain": [
              "1797"
            ]
          },
          "execution_count": 11,
          "metadata": {},
          "output_type": "execute_result"
        }
      ],
      "source": [
        "len(df.images)"
      ]
    },
    {
      "cell_type": "code",
      "execution_count": null,
      "id": "d0920048",
      "metadata": {
        "id": "d0920048"
      },
      "outputs": [],
      "source": [
        "n_samples = len(df.images)\n",
        "data = df.images.reshape((n_samples, -1))\n"
      ]
    },
    {
      "cell_type": "code",
      "execution_count": null,
      "id": "f39f4ca2",
      "metadata": {
        "id": "f39f4ca2",
        "outputId": "1a66382c-8814-4516-918d-2060a0f37c83"
      },
      "outputs": [
        {
          "data": {
            "text/plain": [
              "array([ 0.,  0.,  5., 13.,  9.,  1.,  0.,  0.,  0.,  0., 13., 15., 10.,\n",
              "       15.,  5.,  0.,  0.,  3., 15.,  2.,  0., 11.,  8.,  0.,  0.,  4.,\n",
              "       12.,  0.,  0.,  8.,  8.,  0.,  0.,  5.,  8.,  0.,  0.,  9.,  8.,\n",
              "        0.,  0.,  4., 11.,  0.,  1., 12.,  7.,  0.,  0.,  2., 14.,  5.,\n",
              "       10., 12.,  0.,  0.,  0.,  0.,  6., 13., 10.,  0.,  0.,  0.])"
            ]
          },
          "execution_count": 13,
          "metadata": {},
          "output_type": "execute_result"
        }
      ],
      "source": [
        "data[0]"
      ]
    },
    {
      "cell_type": "code",
      "execution_count": null,
      "id": "a3deb0c5",
      "metadata": {
        "id": "a3deb0c5",
        "outputId": "c73b0361-8b13-40c1-acb0-3a47e9cd2440"
      },
      "outputs": [
        {
          "data": {
            "text/plain": [
              "(64,)"
            ]
          },
          "execution_count": 15,
          "metadata": {},
          "output_type": "execute_result"
        }
      ],
      "source": [
        "data[0].shape"
      ]
    },
    {
      "cell_type": "code",
      "execution_count": null,
      "id": "a57b9567",
      "metadata": {
        "id": "a57b9567",
        "outputId": "eb346673-f982-4ec1-abf8-c684121bbc52"
      },
      "outputs": [
        {
          "data": {
            "text/plain": [
              "(1797, 64)"
            ]
          },
          "execution_count": 16,
          "metadata": {},
          "output_type": "execute_result"
        }
      ],
      "source": [
        "data.shape"
      ]
    },
    {
      "cell_type": "markdown",
      "id": "ae27aec7",
      "metadata": {
        "id": "ae27aec7"
      },
      "source": [
        "Scaling image data"
      ]
    },
    {
      "cell_type": "code",
      "execution_count": null,
      "id": "9d5c389a",
      "metadata": {
        "id": "9d5c389a",
        "outputId": "20bbe2fa-3568-4b88-ae98-44fd25e62e2a"
      },
      "outputs": [
        {
          "data": {
            "text/plain": [
              "0.0"
            ]
          },
          "execution_count": 17,
          "metadata": {},
          "output_type": "execute_result"
        }
      ],
      "source": [
        "data.min()"
      ]
    },
    {
      "cell_type": "code",
      "execution_count": null,
      "id": "a07f4cd9",
      "metadata": {
        "id": "a07f4cd9",
        "outputId": "cb236917-1ba7-4a64-9b2b-381293a2f490"
      },
      "outputs": [
        {
          "data": {
            "text/plain": [
              "16.0"
            ]
          },
          "execution_count": 18,
          "metadata": {},
          "output_type": "execute_result"
        }
      ],
      "source": [
        "data.max()"
      ]
    },
    {
      "cell_type": "code",
      "execution_count": null,
      "id": "7e60a2a6",
      "metadata": {
        "id": "7e60a2a6"
      },
      "outputs": [],
      "source": [
        "data = data/16"
      ]
    },
    {
      "cell_type": "code",
      "execution_count": null,
      "id": "cb4f555e",
      "metadata": {
        "id": "cb4f555e",
        "outputId": "46430628-ce6e-48ae-f460-6b8fab294e1a"
      },
      "outputs": [
        {
          "data": {
            "text/plain": [
              "0.0"
            ]
          },
          "execution_count": 20,
          "metadata": {},
          "output_type": "execute_result"
        }
      ],
      "source": [
        "data.min()"
      ]
    },
    {
      "cell_type": "code",
      "execution_count": null,
      "id": "290c9d96",
      "metadata": {
        "id": "290c9d96",
        "outputId": "e2262d70-64ff-4736-f978-35c59e9679aa"
      },
      "outputs": [
        {
          "data": {
            "text/plain": [
              "1.0"
            ]
          },
          "execution_count": 21,
          "metadata": {},
          "output_type": "execute_result"
        }
      ],
      "source": [
        "data.max()"
      ]
    },
    {
      "cell_type": "code",
      "execution_count": null,
      "id": "7dd9b0d9",
      "metadata": {
        "id": "7dd9b0d9",
        "outputId": "712ef289-7ca7-4194-c2cd-d37038ed3609"
      },
      "outputs": [
        {
          "data": {
            "text/plain": [
              "array([0.    , 0.    , 0.3125, 0.8125, 0.5625, 0.0625, 0.    , 0.    ,\n",
              "       0.    , 0.    , 0.8125, 0.9375, 0.625 , 0.9375, 0.3125, 0.    ,\n",
              "       0.    , 0.1875, 0.9375, 0.125 , 0.    , 0.6875, 0.5   , 0.    ,\n",
              "       0.    , 0.25  , 0.75  , 0.    , 0.    , 0.5   , 0.5   , 0.    ,\n",
              "       0.    , 0.3125, 0.5   , 0.    , 0.    , 0.5625, 0.5   , 0.    ,\n",
              "       0.    , 0.25  , 0.6875, 0.    , 0.0625, 0.75  , 0.4375, 0.    ,\n",
              "       0.    , 0.125 , 0.875 , 0.3125, 0.625 , 0.75  , 0.    , 0.    ,\n",
              "       0.    , 0.    , 0.375 , 0.8125, 0.625 , 0.    , 0.    , 0.    ])"
            ]
          },
          "execution_count": 22,
          "metadata": {},
          "output_type": "execute_result"
        }
      ],
      "source": [
        "data[0]"
      ]
    },
    {
      "cell_type": "markdown",
      "id": "4fb5da1c",
      "metadata": {
        "id": "4fb5da1c"
      },
      "source": [
        "Train Test split data"
      ]
    },
    {
      "cell_type": "code",
      "execution_count": null,
      "id": "b805dc59",
      "metadata": {
        "id": "b805dc59"
      },
      "outputs": [],
      "source": [
        "from sklearn.model_selection import train_test_split"
      ]
    },
    {
      "cell_type": "code",
      "execution_count": null,
      "id": "9146fc80",
      "metadata": {
        "id": "9146fc80"
      },
      "outputs": [],
      "source": [
        "x_train, x_test, y_train, y_test = train_test_split(data, df.target, test_size=0.3)"
      ]
    },
    {
      "cell_type": "code",
      "execution_count": null,
      "id": "25696cf1",
      "metadata": {
        "id": "25696cf1",
        "outputId": "53833826-59cb-483d-a4ff-5dbd03706f0a"
      },
      "outputs": [
        {
          "data": {
            "text/plain": [
              "((1257, 64), (540, 64), (1257,), (540,))"
            ]
          },
          "execution_count": 25,
          "metadata": {},
          "output_type": "execute_result"
        }
      ],
      "source": [
        "x_train.shape, x_test.shape, y_train.shape, y_test.shape"
      ]
    },
    {
      "cell_type": "markdown",
      "id": "6ec03bd8",
      "metadata": {
        "id": "6ec03bd8"
      },
      "source": [
        "\n",
        "Random Forest Model\n"
      ]
    },
    {
      "cell_type": "code",
      "execution_count": null,
      "id": "779318ed",
      "metadata": {
        "id": "779318ed"
      },
      "outputs": [],
      "source": [
        "from sklearn.ensemble import RandomForestClassifier"
      ]
    },
    {
      "cell_type": "code",
      "execution_count": null,
      "id": "c5fa1aff",
      "metadata": {
        "id": "c5fa1aff"
      },
      "outputs": [],
      "source": [
        "rf = RandomForestClassifier()"
      ]
    },
    {
      "cell_type": "code",
      "execution_count": null,
      "id": "e628e428",
      "metadata": {
        "id": "e628e428",
        "outputId": "1dff85f2-c3d3-4fed-ab61-26a7033f4ed8"
      },
      "outputs": [
        {
          "data": {
            "text/html": [
              "<style>#sk-container-id-1 {color: black;}#sk-container-id-1 pre{padding: 0;}#sk-container-id-1 div.sk-toggleable {background-color: white;}#sk-container-id-1 label.sk-toggleable__label {cursor: pointer;display: block;width: 100%;margin-bottom: 0;padding: 0.3em;box-sizing: border-box;text-align: center;}#sk-container-id-1 label.sk-toggleable__label-arrow:before {content: \"▸\";float: left;margin-right: 0.25em;color: #696969;}#sk-container-id-1 label.sk-toggleable__label-arrow:hover:before {color: black;}#sk-container-id-1 div.sk-estimator:hover label.sk-toggleable__label-arrow:before {color: black;}#sk-container-id-1 div.sk-toggleable__content {max-height: 0;max-width: 0;overflow: hidden;text-align: left;background-color: #f0f8ff;}#sk-container-id-1 div.sk-toggleable__content pre {margin: 0.2em;color: black;border-radius: 0.25em;background-color: #f0f8ff;}#sk-container-id-1 input.sk-toggleable__control:checked~div.sk-toggleable__content {max-height: 200px;max-width: 100%;overflow: auto;}#sk-container-id-1 input.sk-toggleable__control:checked~label.sk-toggleable__label-arrow:before {content: \"▾\";}#sk-container-id-1 div.sk-estimator input.sk-toggleable__control:checked~label.sk-toggleable__label {background-color: #d4ebff;}#sk-container-id-1 div.sk-label input.sk-toggleable__control:checked~label.sk-toggleable__label {background-color: #d4ebff;}#sk-container-id-1 input.sk-hidden--visually {border: 0;clip: rect(1px 1px 1px 1px);clip: rect(1px, 1px, 1px, 1px);height: 1px;margin: -1px;overflow: hidden;padding: 0;position: absolute;width: 1px;}#sk-container-id-1 div.sk-estimator {font-family: monospace;background-color: #f0f8ff;border: 1px dotted black;border-radius: 0.25em;box-sizing: border-box;margin-bottom: 0.5em;}#sk-container-id-1 div.sk-estimator:hover {background-color: #d4ebff;}#sk-container-id-1 div.sk-parallel-item::after {content: \"\";width: 100%;border-bottom: 1px solid gray;flex-grow: 1;}#sk-container-id-1 div.sk-label:hover label.sk-toggleable__label {background-color: #d4ebff;}#sk-container-id-1 div.sk-serial::before {content: \"\";position: absolute;border-left: 1px solid gray;box-sizing: border-box;top: 0;bottom: 0;left: 50%;z-index: 0;}#sk-container-id-1 div.sk-serial {display: flex;flex-direction: column;align-items: center;background-color: white;padding-right: 0.2em;padding-left: 0.2em;position: relative;}#sk-container-id-1 div.sk-item {position: relative;z-index: 1;}#sk-container-id-1 div.sk-parallel {display: flex;align-items: stretch;justify-content: center;background-color: white;position: relative;}#sk-container-id-1 div.sk-item::before, #sk-container-id-1 div.sk-parallel-item::before {content: \"\";position: absolute;border-left: 1px solid gray;box-sizing: border-box;top: 0;bottom: 0;left: 50%;z-index: -1;}#sk-container-id-1 div.sk-parallel-item {display: flex;flex-direction: column;z-index: 1;position: relative;background-color: white;}#sk-container-id-1 div.sk-parallel-item:first-child::after {align-self: flex-end;width: 50%;}#sk-container-id-1 div.sk-parallel-item:last-child::after {align-self: flex-start;width: 50%;}#sk-container-id-1 div.sk-parallel-item:only-child::after {width: 0;}#sk-container-id-1 div.sk-dashed-wrapped {border: 1px dashed gray;margin: 0 0.4em 0.5em 0.4em;box-sizing: border-box;padding-bottom: 0.4em;background-color: white;}#sk-container-id-1 div.sk-label label {font-family: monospace;font-weight: bold;display: inline-block;line-height: 1.2em;}#sk-container-id-1 div.sk-label-container {text-align: center;}#sk-container-id-1 div.sk-container {/* jupyter's `normalize.less` sets `[hidden] { display: none; }` but bootstrap.min.css set `[hidden] { display: none !important; }` so we also need the `!important` here to be able to override the default hidden behavior on the sphinx rendered scikit-learn.org. See: https://github.com/scikit-learn/scikit-learn/issues/21755 */display: inline-block !important;position: relative;}#sk-container-id-1 div.sk-text-repr-fallback {display: none;}</style><div id=\"sk-container-id-1\" class=\"sk-top-container\"><div class=\"sk-text-repr-fallback\"><pre>RandomForestClassifier()</pre><b>In a Jupyter environment, please rerun this cell to show the HTML representation or trust the notebook. <br />On GitHub, the HTML representation is unable to render, please try loading this page with nbviewer.org.</b></div><div class=\"sk-container\" hidden><div class=\"sk-item\"><div class=\"sk-estimator sk-toggleable\"><input class=\"sk-toggleable__control sk-hidden--visually\" id=\"sk-estimator-id-1\" type=\"checkbox\" checked><label for=\"sk-estimator-id-1\" class=\"sk-toggleable__label sk-toggleable__label-arrow\">RandomForestClassifier</label><div class=\"sk-toggleable__content\"><pre>RandomForestClassifier()</pre></div></div></div></div></div>"
            ],
            "text/plain": [
              "RandomForestClassifier()"
            ]
          },
          "execution_count": 28,
          "metadata": {},
          "output_type": "execute_result"
        }
      ],
      "source": [
        "rf.fit(x_train, y_train)"
      ]
    },
    {
      "cell_type": "markdown",
      "id": "55ea82e6",
      "metadata": {
        "id": "55ea82e6"
      },
      "source": [
        "Predict test data"
      ]
    },
    {
      "cell_type": "code",
      "execution_count": null,
      "id": "3b434601",
      "metadata": {
        "id": "3b434601"
      },
      "outputs": [],
      "source": [
        "y_pred = rf.predict(x_test)"
      ]
    },
    {
      "cell_type": "code",
      "execution_count": null,
      "id": "09d3d71a",
      "metadata": {
        "id": "09d3d71a",
        "outputId": "d0fbe832-68bf-4cee-97ea-5d6b2e0ed023"
      },
      "outputs": [
        {
          "data": {
            "text/plain": [
              "array([3, 9, 4, 8, 7, 1, 2, 7, 2, 3, 3, 7, 0, 7, 5, 4, 6, 4, 5, 4, 8, 8,\n",
              "       7, 3, 9, 4, 3, 5, 6, 5, 6, 6, 3, 0, 2, 3, 4, 2, 0, 7, 7, 6, 5, 6,\n",
              "       4, 4, 2, 5, 6, 3, 6, 9, 3, 0, 1, 5, 9, 9, 8, 7, 9, 2, 3, 4, 6, 5,\n",
              "       2, 3, 8, 9, 1, 7, 2, 4, 9, 9, 5, 9, 5, 7, 8, 5, 9, 0, 2, 7, 5, 6,\n",
              "       6, 6, 9, 9, 1, 0, 8, 7, 1, 4, 3, 1, 1, 0, 2, 1, 6, 6, 8, 6, 9, 3,\n",
              "       3, 1, 9, 8, 5, 1, 2, 8, 1, 6, 4, 4, 2, 9, 5, 2, 6, 2, 8, 6, 7, 9,\n",
              "       0, 9, 5, 6, 3, 3, 6, 0, 4, 7, 1, 8, 0, 0, 1, 8, 8, 7, 1, 4, 0, 2,\n",
              "       4, 1, 5, 1, 7, 0, 3, 5, 4, 6, 7, 4, 4, 0, 5, 0, 7, 9, 2, 5, 6, 8,\n",
              "       0, 2, 9, 0, 5, 9, 1, 0, 8, 0, 8, 7, 5, 3, 5, 6, 4, 4, 2, 8, 9, 7,\n",
              "       9, 1, 1, 2, 0, 1, 5, 9, 0, 5, 8, 8, 8, 6, 7, 1, 0, 0, 0, 7, 5, 9,\n",
              "       7, 7, 0, 9, 3, 4, 2, 4, 0, 5, 7, 5, 9, 0, 6, 4, 5, 3, 7, 0, 4, 3,\n",
              "       4, 3, 1, 7, 5, 0, 9, 3, 6, 6, 8, 9, 2, 1, 3, 0, 7, 4, 3, 8, 3, 9,\n",
              "       0, 9, 3, 2, 4, 0, 2, 1, 8, 0, 5, 4, 9, 6, 4, 0, 0, 4, 0, 1, 1, 1,\n",
              "       9, 7, 7, 3, 7, 1, 5, 1, 5, 7, 1, 6, 5, 7, 4, 1, 6, 1, 5, 3, 4, 3,\n",
              "       2, 5, 7, 7, 8, 5, 7, 0, 1, 3, 7, 1, 6, 3, 5, 8, 6, 5, 6, 2, 9, 2,\n",
              "       0, 8, 4, 1, 7, 6, 4, 2, 9, 4, 8, 9, 9, 7, 6, 5, 2, 1, 7, 5, 7, 7,\n",
              "       8, 8, 7, 1, 8, 2, 8, 3, 0, 6, 6, 7, 5, 6, 6, 1, 8, 1, 5, 6, 7, 1,\n",
              "       8, 1, 5, 4, 4, 2, 2, 1, 6, 3, 9, 2, 9, 0, 4, 2, 8, 0, 3, 0, 9, 1,\n",
              "       0, 0, 1, 7, 1, 1, 9, 7, 4, 7, 2, 8, 1, 4, 1, 9, 7, 9, 3, 8, 4, 7,\n",
              "       7, 6, 0, 0, 2, 9, 1, 2, 8, 9, 3, 0, 7, 2, 9, 4, 3, 4, 2, 0, 4, 8,\n",
              "       7, 8, 9, 7, 0, 6, 8, 9, 3, 1, 8, 6, 5, 0, 6, 8, 9, 3, 9, 6, 7, 4,\n",
              "       5, 8, 1, 8, 0, 4, 5, 4, 2, 4, 6, 4, 8, 6, 6, 1, 1, 5, 0, 1, 5, 7,\n",
              "       1, 5, 5, 5, 9, 8, 3, 4, 9, 3, 8, 9, 1, 4, 2, 4, 7, 1, 7, 0, 2, 3,\n",
              "       5, 7, 4, 0, 3, 7, 4, 3, 0, 7, 4, 7, 3, 1, 3, 6, 1, 3, 8, 7, 9, 2,\n",
              "       4, 2, 4, 2, 4, 6, 3, 7, 7, 8, 3, 6])"
            ]
          },
          "execution_count": 30,
          "metadata": {},
          "output_type": "execute_result"
        }
      ],
      "source": [
        "y_pred"
      ]
    },
    {
      "cell_type": "markdown",
      "id": "94b2f6f6",
      "metadata": {
        "id": "94b2f6f6"
      },
      "source": [
        "\n",
        "Model Accuracy\n"
      ]
    },
    {
      "cell_type": "code",
      "execution_count": null,
      "id": "590bd051",
      "metadata": {
        "id": "590bd051"
      },
      "outputs": [],
      "source": [
        "from sklearn.metrics import confusion_matrix, classification_report"
      ]
    },
    {
      "cell_type": "code",
      "execution_count": null,
      "id": "31242dbd",
      "metadata": {
        "id": "31242dbd",
        "outputId": "def07382-7b34-41b4-fbee-e3f81ddacac2"
      },
      "outputs": [
        {
          "data": {
            "text/plain": [
              "array([[55,  0,  0,  0,  1,  0,  0,  0,  0,  0],\n",
              "       [ 0, 58,  0,  1,  0,  0,  0,  0,  0,  0],\n",
              "       [ 0,  0, 43,  0,  0,  0,  0,  0,  0,  0],\n",
              "       [ 0,  1,  0, 48,  0,  1,  0,  0,  0,  0],\n",
              "       [ 0,  0,  0,  0, 57,  0,  0,  1,  0,  0],\n",
              "       [ 0,  0,  0,  0,  0, 50,  0,  0,  0,  2],\n",
              "       [ 0,  0,  0,  0,  1,  0, 52,  0,  0,  0],\n",
              "       [ 0,  0,  0,  0,  0,  0,  0, 63,  0,  1],\n",
              "       [ 0,  0,  1,  0,  0,  0,  0,  0, 50,  0],\n",
              "       [ 0,  0,  0,  1,  0,  1,  0,  1,  0, 51]], dtype=int64)"
            ]
          },
          "execution_count": 32,
          "metadata": {},
          "output_type": "execute_result"
        }
      ],
      "source": [
        "confusion_matrix(y_test, y_pred)"
      ]
    },
    {
      "cell_type": "code",
      "execution_count": null,
      "id": "a94fd4ed",
      "metadata": {
        "id": "a94fd4ed",
        "outputId": "b08f63a7-7cce-499f-d619-e74e6efaafe4"
      },
      "outputs": [
        {
          "name": "stdout",
          "output_type": "stream",
          "text": [
            "              precision    recall  f1-score   support\n",
            "\n",
            "           0       1.00      0.98      0.99        56\n",
            "           1       0.98      0.98      0.98        59\n",
            "           2       0.98      1.00      0.99        43\n",
            "           3       0.96      0.96      0.96        50\n",
            "           4       0.97      0.98      0.97        58\n",
            "           5       0.96      0.96      0.96        52\n",
            "           6       1.00      0.98      0.99        53\n",
            "           7       0.97      0.98      0.98        64\n",
            "           8       1.00      0.98      0.99        51\n",
            "           9       0.94      0.94      0.94        54\n",
            "\n",
            "    accuracy                           0.98       540\n",
            "   macro avg       0.98      0.98      0.98       540\n",
            "weighted avg       0.98      0.98      0.98       540\n",
            "\n"
          ]
        }
      ],
      "source": [
        "print(classification_report(y_test, y_pred))"
      ]
    },
    {
      "cell_type": "code",
      "execution_count": null,
      "id": "d3ed5d9e",
      "metadata": {
        "id": "d3ed5d9e"
      },
      "outputs": [],
      "source": []
    }
  ],
  "metadata": {
    "kernelspec": {
      "display_name": "Python 3 (ipykernel)",
      "language": "python",
      "name": "python3"
    },
    "language_info": {
      "codemirror_mode": {
        "name": "ipython",
        "version": 3
      },
      "file_extension": ".py",
      "mimetype": "text/x-python",
      "name": "python",
      "nbconvert_exporter": "python",
      "pygments_lexer": "ipython3",
      "version": "3.11.5"
    },
    "colab": {
      "provenance": [],
      "include_colab_link": true
    }
  },
  "nbformat": 4,
  "nbformat_minor": 5
}